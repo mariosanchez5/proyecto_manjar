{
 "cells": [
  {
   "cell_type": "markdown",
   "metadata": {},
   "source": [
    "Carga de librerías"
   ]
  },
  {
   "cell_type": "code",
   "execution_count": 3,
   "metadata": {},
   "outputs": [],
   "source": [
    "import pandas as pd"
   ]
  },
  {
   "cell_type": "markdown",
   "metadata": {},
   "source": [
    "Carga de datos"
   ]
  },
  {
   "cell_type": "code",
   "execution_count": 4,
   "metadata": {},
   "outputs": [],
   "source": [
    "df = pd.read_excel('/Users/mariosanchez/Desktop/Jupiter Manjar/Base de datos de Manjar.xlsx')"
   ]
  },
  {
   "cell_type": "markdown",
   "metadata": {},
   "source": [
    "Revisión de la carga de datos"
   ]
  },
  {
   "cell_type": "code",
   "execution_count": 5,
   "metadata": {},
   "outputs": [
    {
     "data": {
      "text/html": [
       "<div>\n",
       "<style scoped>\n",
       "    .dataframe tbody tr th:only-of-type {\n",
       "        vertical-align: middle;\n",
       "    }\n",
       "\n",
       "    .dataframe tbody tr th {\n",
       "        vertical-align: top;\n",
       "    }\n",
       "\n",
       "    .dataframe thead th {\n",
       "        text-align: right;\n",
       "    }\n",
       "</style>\n",
       "<table border=\"1\" class=\"dataframe\">\n",
       "  <thead>\n",
       "    <tr style=\"text-align: right;\">\n",
       "      <th></th>\n",
       "      <th>agno</th>\n",
       "      <th>mes</th>\n",
       "      <th>upc</th>\n",
       "      <th>descri_item</th>\n",
       "      <th>Vta_Uni</th>\n",
       "      <th>Vta_Pesos</th>\n",
       "      <th>Vta_Kg</th>\n",
       "      <th>EMPRESA</th>\n",
       "      <th>categoria</th>\n",
       "      <th>fabricante</th>\n",
       "      <th>marca</th>\n",
       "      <th>Gramaje</th>\n",
       "      <th>Empaque</th>\n",
       "      <th>SEGMENTO</th>\n",
       "      <th>VARIEDAD</th>\n",
       "      <th>CADENA</th>\n",
       "      <th>ZONAS</th>\n",
       "    </tr>\n",
       "  </thead>\n",
       "  <tbody>\n",
       "    <tr>\n",
       "      <th>0</th>\n",
       "      <td>2018</td>\n",
       "      <td>8</td>\n",
       "      <td>78040519</td>\n",
       "      <td>SOPROLE MANJAR ACARAMELADO PT PL 200 SOPROLE</td>\n",
       "      <td>180.0</td>\n",
       "      <td>134835.0</td>\n",
       "      <td>36.00</td>\n",
       "      <td>RETAILER B</td>\n",
       "      <td>DULCE DE LECHE</td>\n",
       "      <td>SOPROLE</td>\n",
       "      <td>SOPROLE</td>\n",
       "      <td>200</td>\n",
       "      <td>POTE</td>\n",
       "      <td>MANJAR</td>\n",
       "      <td>REGULAR</td>\n",
       "      <td>CADENA B</td>\n",
       "      <td>Z10 CONCEPCION</td>\n",
       "    </tr>\n",
       "    <tr>\n",
       "      <th>1</th>\n",
       "      <td>2021</td>\n",
       "      <td>1</td>\n",
       "      <td>7804000001332</td>\n",
       "      <td>ECKART DULCE DE LECHE SIN LACTOSA POTE PL 380 ...</td>\n",
       "      <td>192.0</td>\n",
       "      <td>472371.0</td>\n",
       "      <td>72.96</td>\n",
       "      <td>RETAILER C</td>\n",
       "      <td>DULCE DE LECHE</td>\n",
       "      <td>ECKART ALIMENTOS SPA</td>\n",
       "      <td>ECKART</td>\n",
       "      <td>380</td>\n",
       "      <td>POTE</td>\n",
       "      <td>DULCE DE LECHE</td>\n",
       "      <td>SIN LACTOSA</td>\n",
       "      <td>CADENA C1</td>\n",
       "      <td>Z11 ZONA SUR</td>\n",
       "    </tr>\n",
       "    <tr>\n",
       "      <th>2</th>\n",
       "      <td>2018</td>\n",
       "      <td>6</td>\n",
       "      <td>78003095</td>\n",
       "      <td>NESTLE EL MANJAR.POT. 400 NESTLE</td>\n",
       "      <td>1455.0</td>\n",
       "      <td>1486872.0</td>\n",
       "      <td>582.00</td>\n",
       "      <td>RETAILER A</td>\n",
       "      <td>DULCE DE LECHE</td>\n",
       "      <td>NESTLE</td>\n",
       "      <td>NESTLE</td>\n",
       "      <td>400</td>\n",
       "      <td>POTE</td>\n",
       "      <td>MANJAR</td>\n",
       "      <td>REGULAR</td>\n",
       "      <td>CADENA A1</td>\n",
       "      <td>Z2 ANTOFAGASTA</td>\n",
       "    </tr>\n",
       "    <tr>\n",
       "      <th>3</th>\n",
       "      <td>2017</td>\n",
       "      <td>4</td>\n",
       "      <td>7802950004892</td>\n",
       "      <td>NESTLE EL MANJAR BOLSA 1000 NESTLE</td>\n",
       "      <td>5300.0</td>\n",
       "      <td>13270009.0</td>\n",
       "      <td>5300.00</td>\n",
       "      <td>RETAILER B</td>\n",
       "      <td>DULCE DE LECHE</td>\n",
       "      <td>NESTLE</td>\n",
       "      <td>NESTLE</td>\n",
       "      <td>1000</td>\n",
       "      <td>BOLSA</td>\n",
       "      <td>MANJAR</td>\n",
       "      <td>REGULAR</td>\n",
       "      <td>CADENA B</td>\n",
       "      <td>RM5 SANTIAGO SUR ORIENTE</td>\n",
       "    </tr>\n",
       "    <tr>\n",
       "      <th>4</th>\n",
       "      <td>2018</td>\n",
       "      <td>11</td>\n",
       "      <td>78040519</td>\n",
       "      <td>SOPROLE MANJAR ACARAMELADO PT PL 200 SOPROLE</td>\n",
       "      <td>308.0</td>\n",
       "      <td>218256.0</td>\n",
       "      <td>61.60</td>\n",
       "      <td>RETAILER B</td>\n",
       "      <td>DULCE DE LECHE</td>\n",
       "      <td>SOPROLE</td>\n",
       "      <td>SOPROLE</td>\n",
       "      <td>200</td>\n",
       "      <td>POTE</td>\n",
       "      <td>MANJAR</td>\n",
       "      <td>REGULAR</td>\n",
       "      <td>CADENA B</td>\n",
       "      <td>Z1 NORTE GRANDE</td>\n",
       "    </tr>\n",
       "  </tbody>\n",
       "</table>\n",
       "</div>"
      ],
      "text/plain": [
       "   agno  mes            upc  \\\n",
       "0  2018    8       78040519   \n",
       "1  2021    1  7804000001332   \n",
       "2  2018    6       78003095   \n",
       "3  2017    4  7802950004892   \n",
       "4  2018   11       78040519   \n",
       "\n",
       "                                         descri_item  Vta_Uni   Vta_Pesos  \\\n",
       "0       SOPROLE MANJAR ACARAMELADO PT PL 200 SOPROLE    180.0    134835.0   \n",
       "1  ECKART DULCE DE LECHE SIN LACTOSA POTE PL 380 ...    192.0    472371.0   \n",
       "2                   NESTLE EL MANJAR.POT. 400 NESTLE   1455.0   1486872.0   \n",
       "3                 NESTLE EL MANJAR BOLSA 1000 NESTLE   5300.0  13270009.0   \n",
       "4       SOPROLE MANJAR ACARAMELADO PT PL 200 SOPROLE    308.0    218256.0   \n",
       "\n",
       "    Vta_Kg     EMPRESA       categoria            fabricante    marca  \\\n",
       "0    36.00  RETAILER B  DULCE DE LECHE               SOPROLE  SOPROLE   \n",
       "1    72.96  RETAILER C  DULCE DE LECHE  ECKART ALIMENTOS SPA   ECKART   \n",
       "2   582.00  RETAILER A  DULCE DE LECHE                NESTLE   NESTLE   \n",
       "3  5300.00  RETAILER B  DULCE DE LECHE                NESTLE   NESTLE   \n",
       "4    61.60  RETAILER B  DULCE DE LECHE               SOPROLE  SOPROLE   \n",
       "\n",
       "   Gramaje Empaque        SEGMENTO     VARIEDAD     CADENA  \\\n",
       "0      200    POTE          MANJAR      REGULAR   CADENA B   \n",
       "1      380    POTE  DULCE DE LECHE  SIN LACTOSA  CADENA C1   \n",
       "2      400    POTE          MANJAR      REGULAR  CADENA A1   \n",
       "3     1000   BOLSA          MANJAR      REGULAR   CADENA B   \n",
       "4      200    POTE          MANJAR      REGULAR   CADENA B   \n",
       "\n",
       "                      ZONAS  \n",
       "0            Z10 CONCEPCION  \n",
       "1              Z11 ZONA SUR  \n",
       "2            Z2 ANTOFAGASTA  \n",
       "3  RM5 SANTIAGO SUR ORIENTE  \n",
       "4           Z1 NORTE GRANDE  "
      ]
     },
     "execution_count": 5,
     "metadata": {},
     "output_type": "execute_result"
    }
   ],
   "source": [
    "df.head()"
   ]
  },
  {
   "cell_type": "markdown",
   "metadata": {},
   "source": [
    "Información del DataFrame"
   ]
  },
  {
   "cell_type": "code",
   "execution_count": 6,
   "metadata": {},
   "outputs": [
    {
     "data": {
      "text/plain": [
       "(170152, 17)"
      ]
     },
     "execution_count": 6,
     "metadata": {},
     "output_type": "execute_result"
    }
   ],
   "source": [
    "df.shape"
   ]
  },
  {
   "cell_type": "code",
   "execution_count": 4,
   "metadata": {},
   "outputs": [
    {
     "name": "stdout",
     "output_type": "stream",
     "text": [
      "<class 'pandas.core.frame.DataFrame'>\n",
      "RangeIndex: 170152 entries, 0 to 170151\n",
      "Data columns (total 17 columns):\n",
      " #   Column       Non-Null Count   Dtype  \n",
      "---  ------       --------------   -----  \n",
      " 0   agno         170152 non-null  int64  \n",
      " 1   mes          170152 non-null  int64  \n",
      " 2   upc          170152 non-null  int64  \n",
      " 3   descri_item  170152 non-null  object \n",
      " 4   Vta_Uni      170152 non-null  float64\n",
      " 5   Vta_Pesos    170152 non-null  float64\n",
      " 6   Vta_Kg       170152 non-null  float64\n",
      " 7   EMPRESA      170152 non-null  object \n",
      " 8   categoria    170152 non-null  object \n",
      " 9   fabricante   170152 non-null  object \n",
      " 10  marca        170152 non-null  object \n",
      " 11  Gramaje      170152 non-null  int64  \n",
      " 12  Empaque      170152 non-null  object \n",
      " 13  SEGMENTO     170152 non-null  object \n",
      " 14  VARIEDAD     170152 non-null  object \n",
      " 15  CADENA       170152 non-null  object \n",
      " 16  ZONAS        170152 non-null  object \n",
      "dtypes: float64(3), int64(4), object(10)\n",
      "memory usage: 22.1+ MB\n"
     ]
    }
   ],
   "source": [
    "df.info()"
   ]
  },
  {
   "cell_type": "markdown",
   "metadata": {},
   "source": [
    "Se puede apreciar que contamos con 17 columnas, 170.152 registros por cada una de ellas, ningún valor nulo y nos encontramos con columnas tanto de valores númericos enteros, decimales como string."
   ]
  },
  {
   "cell_type": "markdown",
   "metadata": {},
   "source": [
    "Resumen descriptivo de las variables numéricas"
   ]
  },
  {
   "cell_type": "code",
   "execution_count": 10,
   "metadata": {},
   "outputs": [
    {
     "data": {
      "text/html": [
       "<div>\n",
       "<style scoped>\n",
       "    .dataframe tbody tr th:only-of-type {\n",
       "        vertical-align: middle;\n",
       "    }\n",
       "\n",
       "    .dataframe tbody tr th {\n",
       "        vertical-align: top;\n",
       "    }\n",
       "\n",
       "    .dataframe thead th {\n",
       "        text-align: right;\n",
       "    }\n",
       "</style>\n",
       "<table border=\"1\" class=\"dataframe\">\n",
       "  <thead>\n",
       "    <tr style=\"text-align: right;\">\n",
       "      <th></th>\n",
       "      <th>agno</th>\n",
       "      <th>mes</th>\n",
       "      <th>upc</th>\n",
       "      <th>Vta_Uni</th>\n",
       "      <th>Vta_Pesos</th>\n",
       "      <th>Vta_Kg</th>\n",
       "      <th>Gramaje</th>\n",
       "    </tr>\n",
       "  </thead>\n",
       "  <tbody>\n",
       "    <tr>\n",
       "      <th>count</th>\n",
       "      <td>170152.000000</td>\n",
       "      <td>170152.000000</td>\n",
       "      <td>1.701520e+05</td>\n",
       "      <td>170152.000000</td>\n",
       "      <td>1.701520e+05</td>\n",
       "      <td>170152.000000</td>\n",
       "      <td>170152.000000</td>\n",
       "    </tr>\n",
       "    <tr>\n",
       "      <th>mean</th>\n",
       "      <td>2018.932507</td>\n",
       "      <td>6.318692</td>\n",
       "      <td>6.558602e+12</td>\n",
       "      <td>563.877856</td>\n",
       "      <td>9.535582e+05</td>\n",
       "      <td>345.737104</td>\n",
       "      <td>618.176513</td>\n",
       "    </tr>\n",
       "    <tr>\n",
       "      <th>std</th>\n",
       "      <td>1.397662</td>\n",
       "      <td>3.371751</td>\n",
       "      <td>2.823097e+12</td>\n",
       "      <td>2012.152345</td>\n",
       "      <td>3.035358e+06</td>\n",
       "      <td>1345.829732</td>\n",
       "      <td>455.071012</td>\n",
       "    </tr>\n",
       "    <tr>\n",
       "      <th>min</th>\n",
       "      <td>2017.000000</td>\n",
       "      <td>1.000000</td>\n",
       "      <td>0.000000e+00</td>\n",
       "      <td>1.000000</td>\n",
       "      <td>1.000000e+00</td>\n",
       "      <td>0.190000</td>\n",
       "      <td>190.000000</td>\n",
       "    </tr>\n",
       "    <tr>\n",
       "      <th>25%</th>\n",
       "      <td>2018.000000</td>\n",
       "      <td>3.000000</td>\n",
       "      <td>7.791058e+12</td>\n",
       "      <td>45.000000</td>\n",
       "      <td>8.781575e+04</td>\n",
       "      <td>23.000000</td>\n",
       "      <td>400.000000</td>\n",
       "    </tr>\n",
       "    <tr>\n",
       "      <th>50%</th>\n",
       "      <td>2019.000000</td>\n",
       "      <td>6.000000</td>\n",
       "      <td>7.802920e+12</td>\n",
       "      <td>163.000000</td>\n",
       "      <td>2.876440e+05</td>\n",
       "      <td>85.600000</td>\n",
       "      <td>500.000000</td>\n",
       "    </tr>\n",
       "    <tr>\n",
       "      <th>75%</th>\n",
       "      <td>2020.000000</td>\n",
       "      <td>9.000000</td>\n",
       "      <td>7.802950e+12</td>\n",
       "      <td>481.000000</td>\n",
       "      <td>8.204415e+05</td>\n",
       "      <td>258.400000</td>\n",
       "      <td>1000.000000</td>\n",
       "    </tr>\n",
       "    <tr>\n",
       "      <th>max</th>\n",
       "      <td>2021.000000</td>\n",
       "      <td>12.000000</td>\n",
       "      <td>7.896043e+12</td>\n",
       "      <td>189477.000000</td>\n",
       "      <td>2.106687e+08</td>\n",
       "      <td>105452.000000</td>\n",
       "      <td>9600.000000</td>\n",
       "    </tr>\n",
       "  </tbody>\n",
       "</table>\n",
       "</div>"
      ],
      "text/plain": [
       "                agno            mes           upc        Vta_Uni  \\\n",
       "count  170152.000000  170152.000000  1.701520e+05  170152.000000   \n",
       "mean     2018.932507       6.318692  6.558602e+12     563.877856   \n",
       "std         1.397662       3.371751  2.823097e+12    2012.152345   \n",
       "min      2017.000000       1.000000  0.000000e+00       1.000000   \n",
       "25%      2018.000000       3.000000  7.791058e+12      45.000000   \n",
       "50%      2019.000000       6.000000  7.802920e+12     163.000000   \n",
       "75%      2020.000000       9.000000  7.802950e+12     481.000000   \n",
       "max      2021.000000      12.000000  7.896043e+12  189477.000000   \n",
       "\n",
       "          Vta_Pesos         Vta_Kg        Gramaje  \n",
       "count  1.701520e+05  170152.000000  170152.000000  \n",
       "mean   9.535582e+05     345.737104     618.176513  \n",
       "std    3.035358e+06    1345.829732     455.071012  \n",
       "min    1.000000e+00       0.190000     190.000000  \n",
       "25%    8.781575e+04      23.000000     400.000000  \n",
       "50%    2.876440e+05      85.600000     500.000000  \n",
       "75%    8.204415e+05     258.400000    1000.000000  \n",
       "max    2.106687e+08  105452.000000    9600.000000  "
      ]
     },
     "execution_count": 10,
     "metadata": {},
     "output_type": "execute_result"
    }
   ],
   "source": [
    "df.describe()"
   ]
  },
  {
   "cell_type": "code",
   "execution_count": 8,
   "metadata": {},
   "outputs": [
    {
     "data": {
      "text/plain": [
       "array(['agno', 'mes', 'upc', 'descri_item', 'Vta_Uni', 'Vta_Pesos',\n",
       "       'Vta_Kg', 'EMPRESA', 'categoria', 'fabricante', 'marca', 'Gramaje',\n",
       "       'Empaque', 'SEGMENTO', 'VARIEDAD', 'CADENA', 'ZONAS'], dtype=object)"
      ]
     },
     "execution_count": 8,
     "metadata": {},
     "output_type": "execute_result"
    }
   ],
   "source": [
    "df.columns.values"
   ]
  },
  {
   "cell_type": "markdown",
   "metadata": {},
   "source": [
    "Si queremos ver alguna columna en específico"
   ]
  },
  {
   "cell_type": "code",
   "execution_count": 11,
   "metadata": {},
   "outputs": [
    {
     "data": {
      "text/plain": [
       "count    170152.000000\n",
       "mean        618.176513\n",
       "std         455.071012\n",
       "min         190.000000\n",
       "25%         400.000000\n",
       "50%         500.000000\n",
       "75%        1000.000000\n",
       "max        9600.000000\n",
       "Name: Gramaje, dtype: float64"
      ]
     },
     "execution_count": 11,
     "metadata": {},
     "output_type": "execute_result"
    }
   ],
   "source": [
    "df['Gramaje'].describe()"
   ]
  },
  {
   "cell_type": "markdown",
   "metadata": {},
   "source": [
    "Tenemos los principales estadísticos donde podemos obtener información como por ejemplo que el gramaje promedio de los productos en la base de datos son entorno a los 600 gramos"
   ]
  }
 ],
 "metadata": {
  "kernelspec": {
   "display_name": "Python 3",
   "language": "python",
   "name": "python3"
  },
  "language_info": {
   "codemirror_mode": {
    "name": "ipython",
    "version": 3
   },
   "file_extension": ".py",
   "mimetype": "text/x-python",
   "name": "python",
   "nbconvert_exporter": "python",
   "pygments_lexer": "ipython3",
   "version": "3.9.1"
  },
  "orig_nbformat": 4
 },
 "nbformat": 4,
 "nbformat_minor": 2
}
